{
 "cells": [
  {
   "cell_type": "markdown",
   "id": "ebf8a8ed",
   "metadata": {},
   "source": [
    "# Python Conditions:"
   ]
  },
  {
   "cell_type": "markdown",
   "id": "c9c196ae",
   "metadata": {},
   "source": [
    "1.Take values of the length & breadth of a rectangle from user input and check if it is square or not."
   ]
  },
  {
   "cell_type": "code",
   "execution_count": 1,
   "id": "922be13e",
   "metadata": {},
   "outputs": [
    {
     "name": "stdout",
     "output_type": "stream",
     "text": [
      "2\n",
      "4\n",
      "Rectangle\n"
     ]
    }
   ],
   "source": [
    "X = input()\n",
    "Y = input()\n",
    "if X == Y:\n",
    "    print(\"Square\")\n",
    "else:\n",
    "    print(\"Rectangle\")\n",
    "    "
   ]
  },
  {
   "cell_type": "markdown",
   "id": "7768a342",
   "metadata": {},
   "source": [
    "2.Take three integer values from the user and print the greatest among them."
   ]
  },
  {
   "cell_type": "code",
   "execution_count": 2,
   "id": "65e4e514",
   "metadata": {},
   "outputs": [
    {
     "name": "stdout",
     "output_type": "stream",
     "text": [
      "4\n",
      "5\n",
      "7\n",
      "Greatest number is: 7\n"
     ]
    }
   ],
   "source": [
    "X=input()\n",
    "Y=input()\n",
    "Z=input()\n",
    "\n",
    "print(\"Greatest number is:\",max(X,Y,Z))"
   ]
  },
  {
   "cell_type": "markdown",
   "id": "2633a50f",
   "metadata": {},
   "source": [
    "3. A student will not be allowed to sit in an exam if his/her attendance is less than 75%"
   ]
  },
  {
   "cell_type": "code",
   "execution_count": 3,
   "id": "d7a40770",
   "metadata": {},
   "outputs": [
    {
     "name": "stdout",
     "output_type": "stream",
     "text": [
      "Please input the student's attendance percentage:\n",
      "76\n",
      "Student can take the exam.\n"
     ]
    }
   ],
   "source": [
    "print(\"Please input the student's attendance percentage:\")\n",
    "percentage_of_attendance = int(input())\n",
    "if percentage_of_attendance >= 75:\n",
    "    print(\"Student can take the exam.\")\n",
    "else:\n",
    "    print(\"Sorry, student is not allowed to take the exam.\")"
   ]
  },
  {
   "cell_type": "markdown",
   "id": "a54ab2e7",
   "metadata": {},
   "source": [
    "4. A school has the following rules for the grading system:\n",
    "Below 25 – F, 25 to 44 – E, 45 to 49 – D, 50 to 59 – C, 60 to 79 – B, 80 to 89 - A, Above 90 - A+\n",
    "Now, Ask the user to enter marks and print the corresponding grade"
   ]
  },
  {
   "cell_type": "code",
   "execution_count": 4,
   "id": "8475d1da",
   "metadata": {},
   "outputs": [
    {
     "name": "stdout",
     "output_type": "stream",
     "text": [
      "Please enter the marks:\n",
      "92\n",
      "Sutdnet has received grade A+\n"
     ]
    }
   ],
   "source": [
    "print(\"Please enter the marks:\")\n",
    "grade = int(input())\n",
    "\n",
    "if grade < 25:\n",
    "    print(\"Student has received grade F\")\n",
    "elif grade >=25 and grade <=44:\n",
    "    print(\"Student has received grade E\")\n",
    "elif grade >=45 and grade <=49:\n",
    "    print(\"Student has received grade D\")\n",
    "elif grade >=50 and grade <=59:\n",
    "    print(\"Student has received grade C\")\n",
    "elif grade >=60 and grade <=79:\n",
    "    print(\"Student has received grade B\")\n",
    "elif grade >=80 and grade <= 89:\n",
    "    print(\"Student has received grade A\")\n",
    "else:\n",
    "    print(\"Sutdent has received grade A+\")"
   ]
  },
  {
   "cell_type": "markdown",
   "id": "b15a918a",
   "metadata": {},
   "source": [
    "# Loop Problem:"
   ]
  },
  {
   "cell_type": "markdown",
   "id": "151f5c18",
   "metadata": {},
   "source": [
    "5. Print the following pattern using for and while loop.\n",
    "\"1 2 3 4 5 6 7\",\n",
    "\"1 2 3 4 5 6\",\n",
    "\"1 2 3 4 5\",\n",
    "\"1 2 3 4\","
   ]
  },
  {
   "cell_type": "code",
   "execution_count": 5,
   "id": "50ccc479",
   "metadata": {},
   "outputs": [
    {
     "name": "stdout",
     "output_type": "stream",
     "text": [
      "1\n",
      "2\n",
      "3\n",
      "4\n",
      "5\n",
      "6\n",
      "7\n"
     ]
    }
   ],
   "source": [
    "for i in range(1,8):\n",
    "    print(i)"
   ]
  },
  {
   "cell_type": "code",
   "execution_count": 6,
   "id": "6268f491",
   "metadata": {},
   "outputs": [
    {
     "name": "stdout",
     "output_type": "stream",
     "text": [
      "1\n",
      "2\n",
      "3\n",
      "4\n",
      "5\n",
      "6\n",
      "7\n"
     ]
    }
   ],
   "source": [
    "i = 1\n",
    "while i <=7:\n",
    "    print(i)\n",
    "    i+=1"
   ]
  },
  {
   "cell_type": "code",
   "execution_count": 7,
   "id": "c67ccf69",
   "metadata": {},
   "outputs": [
    {
     "name": "stdout",
     "output_type": "stream",
     "text": [
      "1\n",
      "2\n",
      "3\n",
      "4\n",
      "5\n",
      "6\n"
     ]
    }
   ],
   "source": [
    "for i in range(1,7):\n",
    "    print(i)"
   ]
  },
  {
   "cell_type": "code",
   "execution_count": 8,
   "id": "38e35408",
   "metadata": {},
   "outputs": [
    {
     "name": "stdout",
     "output_type": "stream",
     "text": [
      "1\n",
      "2\n",
      "3\n",
      "4\n",
      "5\n",
      "6\n"
     ]
    }
   ],
   "source": [
    "i = 1\n",
    "while i <=6:\n",
    "    print(i)\n",
    "    i+=1"
   ]
  },
  {
   "cell_type": "code",
   "execution_count": 9,
   "id": "b377f894",
   "metadata": {},
   "outputs": [
    {
     "name": "stdout",
     "output_type": "stream",
     "text": [
      "1\n",
      "2\n",
      "3\n",
      "4\n",
      "5\n"
     ]
    }
   ],
   "source": [
    "for i in range(1,6):\n",
    "    print(i)"
   ]
  },
  {
   "cell_type": "code",
   "execution_count": 10,
   "id": "6eb0756b",
   "metadata": {},
   "outputs": [
    {
     "name": "stdout",
     "output_type": "stream",
     "text": [
      "1\n",
      "2\n",
      "3\n",
      "4\n",
      "5\n"
     ]
    }
   ],
   "source": [
    "i = 1\n",
    "while i <=5:\n",
    "    print(i)\n",
    "    i+=1"
   ]
  },
  {
   "cell_type": "code",
   "execution_count": 11,
   "id": "6cef4d69",
   "metadata": {},
   "outputs": [
    {
     "name": "stdout",
     "output_type": "stream",
     "text": [
      "1\n",
      "2\n",
      "3\n",
      "4\n"
     ]
    }
   ],
   "source": [
    "for i in range(1,5):\n",
    "    print(i)"
   ]
  },
  {
   "cell_type": "code",
   "execution_count": 12,
   "id": "ed91d6c0",
   "metadata": {},
   "outputs": [
    {
     "name": "stdout",
     "output_type": "stream",
     "text": [
      "1\n",
      "2\n",
      "3\n",
      "4\n"
     ]
    }
   ],
   "source": [
    "i = 1\n",
    "while i <=4:\n",
    "    print(i)\n",
    "    i+=1"
   ]
  },
  {
   "cell_type": "markdown",
   "id": "fa8bfd29",
   "metadata": {},
   "source": [
    "6. Display numbers from -100 to -10 using for loop."
   ]
  },
  {
   "cell_type": "code",
   "execution_count": 13,
   "id": "7b0bf8ea",
   "metadata": {},
   "outputs": [
    {
     "name": "stdout",
     "output_type": "stream",
     "text": [
      "-100\n",
      "-99\n",
      "-98\n",
      "-97\n",
      "-96\n",
      "-95\n",
      "-94\n",
      "-93\n",
      "-92\n",
      "-91\n",
      "-90\n",
      "-89\n",
      "-88\n",
      "-87\n",
      "-86\n",
      "-85\n",
      "-84\n",
      "-83\n",
      "-82\n",
      "-81\n",
      "-80\n",
      "-79\n",
      "-78\n",
      "-77\n",
      "-76\n",
      "-75\n",
      "-74\n",
      "-73\n",
      "-72\n",
      "-71\n",
      "-70\n",
      "-69\n",
      "-68\n",
      "-67\n",
      "-66\n",
      "-65\n",
      "-64\n",
      "-63\n",
      "-62\n",
      "-61\n",
      "-60\n",
      "-59\n",
      "-58\n",
      "-57\n",
      "-56\n",
      "-55\n",
      "-54\n",
      "-53\n",
      "-52\n",
      "-51\n",
      "-50\n",
      "-49\n",
      "-48\n",
      "-47\n",
      "-46\n",
      "-45\n",
      "-44\n",
      "-43\n",
      "-42\n",
      "-41\n",
      "-40\n",
      "-39\n",
      "-38\n",
      "-37\n",
      "-36\n",
      "-35\n",
      "-34\n",
      "-33\n",
      "-32\n",
      "-31\n",
      "-30\n",
      "-29\n",
      "-28\n",
      "-27\n",
      "-26\n",
      "-25\n",
      "-24\n",
      "-23\n",
      "-22\n",
      "-21\n",
      "-20\n",
      "-19\n",
      "-18\n",
      "-17\n",
      "-16\n",
      "-15\n",
      "-14\n",
      "-13\n",
      "-12\n",
      "-11\n",
      "-10\n"
     ]
    }
   ],
   "source": [
    "for i in range(-100,-9):\n",
    "    print(i)"
   ]
  },
  {
   "cell_type": "markdown",
   "id": "26a7cd71",
   "metadata": {},
   "source": [
    "\n",
    "7. Write a program to sum all prime numbers within a range of 10 to 1000."
   ]
  },
  {
   "cell_type": "code",
   "execution_count": 14,
   "id": "a1b79fdb",
   "metadata": {},
   "outputs": [
    {
     "name": "stdout",
     "output_type": "stream",
     "text": [
      "The sum of all the prime numbers between 10 and 1000 is: 76110\n"
     ]
    }
   ],
   "source": [
    "def prime_number(num):\n",
    "    if num <=1:\n",
    "        return False\n",
    "    for i in range(2,num):\n",
    "        if num % i == 0:\n",
    "            return False\n",
    "    return True\n",
    "\n",
    "sum_of_prime_number = 0\n",
    "for num in range(10,1000):\n",
    "    if prime_number(num):\n",
    "        sum_of_prime_number+=num\n",
    "        \n",
    "print(\"The sum of all the prime numbers between 10 and 1000 is:\",sum_of_prime_number)"
   ]
  },
  {
   "cell_type": "markdown",
   "id": "8bc0298f",
   "metadata": {},
   "source": [
    "8. Find the factorial of an n! (Hint, n=7: 7*6*5*4*3*2*1)."
   ]
  },
  {
   "cell_type": "code",
   "execution_count": 15,
   "id": "3a5bde35",
   "metadata": {},
   "outputs": [
    {
     "name": "stdout",
     "output_type": "stream",
     "text": [
      "The factorial of 7 is:5040\n"
     ]
    }
   ],
   "source": [
    " def factorial(n):\n",
    "        if n == 0 or n == 1:\n",
    "            return 1\n",
    "        else:\n",
    "            num = 1\n",
    "            for i in range(2,n+1):\n",
    "                num *=i\n",
    "            return num\n",
    "\n",
    "n  = 7\n",
    "factorial_of_n = factorial(n)\n",
    "print(f\"The factorial of {n} is:{factorial_of_n}\")"
   ]
  },
  {
   "cell_type": "markdown",
   "id": "d0f14f10",
   "metadata": {},
   "source": [
    "9. Reverse a given integer number 27956240710.\n"
   ]
  },
  {
   "cell_type": "code",
   "execution_count": 16,
   "id": "452bd5d2",
   "metadata": {},
   "outputs": [
    {
     "name": "stdout",
     "output_type": "stream",
     "text": [
      "Reverser number of '27956240710' is: 01704265972\n"
     ]
    }
   ],
   "source": [
    "number = \"27956240710\"\n",
    "reverse_number = number[::-1]\n",
    "print(\"Reverser number of '27956240710' is:\",reverse_number)"
   ]
  },
  {
   "cell_type": "raw",
   "id": "27192daa",
   "metadata": {},
   "source": [
    "10. Print the following pattern using for and while loop.\n",
    "# # #\n",
    "# # # #\n",
    "# # # \n",
    "# #"
   ]
  },
  {
   "cell_type": "code",
   "execution_count": null,
   "id": "44545c70",
   "metadata": {},
   "outputs": [],
   "source": []
  },
  {
   "cell_type": "markdown",
   "id": "fdeb37ba",
   "metadata": {},
   "source": [
    "11. Display the Fibonacci series of 15 elements using the for and while loop."
   ]
  },
  {
   "cell_type": "code",
   "execution_count": null,
   "id": "ac9a37a4",
   "metadata": {},
   "outputs": [],
   "source": [
    "\n"
   ]
  },
  {
   "cell_type": "markdown",
   "id": "84880728",
   "metadata": {},
   "source": [
    "# Python inbuilt Data Structure:\n"
   ]
  },
  {
   "cell_type": "markdown",
   "id": "55d112de",
   "metadata": {},
   "source": [
    "12. Remove 2 and add 3 to the list and replace True with False.\n",
    "Li = [1,3,5, [2,3], True]\n",
    "Output = [1,3,5, [3,3], False]\n"
   ]
  },
  {
   "cell_type": "code",
   "execution_count": 17,
   "id": "11fc4772",
   "metadata": {},
   "outputs": [],
   "source": [
    "Li = [1,3,5, [2,3], True]"
   ]
  },
  {
   "cell_type": "code",
   "execution_count": 18,
   "id": "6424a4de",
   "metadata": {},
   "outputs": [
    {
     "data": {
      "text/plain": [
       "2"
      ]
     },
     "execution_count": 18,
     "metadata": {},
     "output_type": "execute_result"
    }
   ],
   "source": [
    "Li[3][0]"
   ]
  },
  {
   "cell_type": "code",
   "execution_count": 19,
   "id": "4dcd5389",
   "metadata": {},
   "outputs": [],
   "source": [
    "Li[3][0]=3"
   ]
  },
  {
   "cell_type": "code",
   "execution_count": 20,
   "id": "6bffdde1",
   "metadata": {},
   "outputs": [
    {
     "data": {
      "text/plain": [
       "[1, 3, 5, [3, 3], True]"
      ]
     },
     "execution_count": 20,
     "metadata": {},
     "output_type": "execute_result"
    }
   ],
   "source": [
    "Li"
   ]
  },
  {
   "cell_type": "code",
   "execution_count": 21,
   "id": "7e712072",
   "metadata": {},
   "outputs": [],
   "source": [
    "Li[4]=\"False\""
   ]
  },
  {
   "cell_type": "code",
   "execution_count": 22,
   "id": "c3205999",
   "metadata": {},
   "outputs": [
    {
     "data": {
      "text/plain": [
       "[1, 3, 5, [3, 3], 'False']"
      ]
     },
     "execution_count": 22,
     "metadata": {},
     "output_type": "execute_result"
    }
   ],
   "source": [
    "Li"
   ]
  },
  {
   "cell_type": "markdown",
   "id": "e69a40ac",
   "metadata": {},
   "source": [
    "13. Find the intersection (common) of two sets.\n",
    "S1 = {1,4,6,8}\n",
    "S2 = {True, 1,2,10}\n"
   ]
  },
  {
   "cell_type": "code",
   "execution_count": 23,
   "id": "8c400836",
   "metadata": {},
   "outputs": [
    {
     "name": "stdout",
     "output_type": "stream",
     "text": [
      "{1}\n"
     ]
    }
   ],
   "source": [
    "s1 = {1,4,6,8}\n",
    "s2 = {\"True\",1,2,10}\n",
    "intersection_result = s1.intersection(s2)\n",
    "print(intersection_result)"
   ]
  },
  {
   "cell_type": "markdown",
   "id": "f5a5daf3",
   "metadata": {},
   "source": [
    "14. Input a list from the user then Remove duplicates from a list and create a set and find the max\n",
    "number. User_input = [1,9,3,4,5,200,54]"
   ]
  },
  {
   "cell_type": "code",
   "execution_count": 24,
   "id": "0998bec5",
   "metadata": {},
   "outputs": [
    {
     "name": "stdout",
     "output_type": "stream",
     "text": [
      "Please enter a list of numbers seperated by spaces: 1 9 3 4 5 200 54\n",
      "Max number is: 200\n"
     ]
    }
   ],
   "source": [
    "user_input = input(\"Please enter a list of numbers seperated by spaces: \")\n",
    "user_input_list = [int(item) for item in user_input.split()]\n",
    "remove_duplicates=set(user_input_list)\n",
    "max_number = max(remove_duplicates)\n",
    "print(\"Max number is:\",max_number)"
   ]
  },
  {
   "cell_type": "markdown",
   "id": "4e9b12ed",
   "metadata": {},
   "source": [
    "15. Rename the key of a dictionary.\n",
    "Dict = { \"name\": \"Shakil\", \"age\":27, \"city\": “Berlin”, \"country\": \"Germany\" }\n",
    "Write a program to rename a key ‘country’ to a ‘region’ in the following dictionary"
   ]
  },
  {
   "cell_type": "code",
   "execution_count": 25,
   "id": "758b04dd",
   "metadata": {},
   "outputs": [
    {
     "name": "stdout",
     "output_type": "stream",
     "text": [
      "{'Name': 'Shakil', 'Age': 27, 'City': 'Berlin', 'Region': 'Germany'}\n"
     ]
    }
   ],
   "source": [
    "Dict = { \"Name\": \"Shakil\", \"Age\":27, \"City\": \"Berlin\", \"Country\": \"Germany\" } \n",
    "Dict[\"Region\"] = Dict.pop(\"Country\")\n",
    "print(Dict)"
   ]
  },
  {
   "cell_type": "markdown",
   "id": "c9c79bee",
   "metadata": {},
   "source": [
    "16. Creating a data frame using the list.\n",
    "num = [10,100,300] (column name is number)"
   ]
  },
  {
   "cell_type": "code",
   "execution_count": 26,
   "id": "e8ef7de8",
   "metadata": {},
   "outputs": [
    {
     "name": "stdout",
     "output_type": "stream",
     "text": [
      "   Number\n",
      "0      10\n",
      "1     100\n",
      "2     300\n"
     ]
    }
   ],
   "source": [
    "import pandas as pd\n",
    "\n",
    "num = [10,100,300]\n",
    "df = pd.DataFrame({'Number':num})\n",
    "\n",
    "print(df)"
   ]
  },
  {
   "cell_type": "markdown",
   "id": "f9148b25",
   "metadata": {},
   "source": [
    "17. Change the value of a key in a given dictionary.\n",
    "Write a Python program to change ‘age’ to 28 in the following dictionary.\n",
    "Dict = { \"name\": \"Shakil\", \"age\":27, \"city\": “Berlin”, \"country\": \"Germany\" }"
   ]
  },
  {
   "cell_type": "code",
   "execution_count": 27,
   "id": "0fac2aff",
   "metadata": {},
   "outputs": [
    {
     "data": {
      "text/plain": [
       "{'Name': 'Shakil', 'Age': 28, 'City': 'Berlin', 'Country': 'Germany'}"
      ]
     },
     "execution_count": 27,
     "metadata": {},
     "output_type": "execute_result"
    }
   ],
   "source": [
    "Dict = { \"Name\": \"Shakil\", \"Age\":27, \"City\": \"Berlin\", \"Country\": \"Germany\" } \n",
    "Dict['Age'] = 28\n",
    "Dict"
   ]
  }
 ],
 "metadata": {
  "kernelspec": {
   "display_name": "Python 3",
   "language": "python",
   "name": "python3"
  },
  "language_info": {
   "codemirror_mode": {
    "name": "ipython",
    "version": 3
   },
   "file_extension": ".py",
   "mimetype": "text/x-python",
   "name": "python",
   "nbconvert_exporter": "python",
   "pygments_lexer": "ipython3",
   "version": "3.8.8"
  }
 },
 "nbformat": 4,
 "nbformat_minor": 5
}
